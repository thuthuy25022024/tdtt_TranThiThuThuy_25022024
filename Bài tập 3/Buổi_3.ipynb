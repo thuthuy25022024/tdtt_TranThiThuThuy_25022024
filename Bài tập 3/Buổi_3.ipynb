{
  "nbformat": 4,
  "nbformat_minor": 0,
  "metadata": {
    "colab": {
      "provenance": []
    },
    "kernelspec": {
      "name": "python3",
      "display_name": "Python 3"
    },
    "language_info": {
      "name": "python"
    }
  },
  "cells": [
    {
      "cell_type": "code",
      "execution_count": null,
      "metadata": {
        "colab": {
          "base_uri": "https://localhost:8080/"
        },
        "id": "np5lgUfKqZXy",
        "outputId": "245ad8ba-4a82-4f0b-d7be-5d0565f48ef3"
      },
      "outputs": [
        {
          "output_type": "stream",
          "name": "stdout",
          "text": [
            "Nhập vào một số nguyên n: 569\n",
            "Số sau khi đảo ngược chữ số là: 965\n"
          ]
        }
      ],
      "source": [
        "#Viết một chương trình nhập vào một số nguyên n và in ra các chữ số đảo ngược nhau.\n",
        "\n",
        "\n",
        "\n",
        "n = int(input(\"Nhập vào một số nguyên n: \"))\n",
        "abs_n = abs(n)\n",
        "reversed_number = str(abs_n)[::-1]\n",
        "print(\"Số sau khi đảo ngược chữ số là:\", reversed_number)\n"
      ]
    },
    {
      "cell_type": "code",
      "source": [
        "#Hoán đổi hai số không sd biến tạm thời. Sử dụng phép toán XOR bitwise để hoán đổi giá trị của hai biến.\n",
        "\n",
        "\n",
        "a = int(input(\"Nhập a: \"))\n",
        "b = int(input(\"Nhập b: \"))\n",
        "\n",
        "print(f\"Trước khi hoán đổi: a = {a}, b = {b}\")\n",
        "\n",
        "a = a ^ b\n",
        "b = a ^ b\n",
        "a = a ^ b\n",
        "\n",
        "print(f\"Sau khi hoán đổi: a = {a}, b = {b}\")\n"
      ],
      "metadata": {
        "colab": {
          "base_uri": "https://localhost:8080/"
        },
        "id": "FG1Zetwfr5HG",
        "outputId": "c17d9f9a-f096-47b7-c97f-50ddead708fb"
      },
      "execution_count": null,
      "outputs": [
        {
          "output_type": "stream",
          "name": "stdout",
          "text": [
            "Nhập a: 10\n",
            "Nhập b: 8\n",
            "Trước khi hoán đổi: a = 10, b = 8\n",
            "Sau khi hoán đổi: a = 8, b = 10\n"
          ]
        }
      ]
    },
    {
      "cell_type": "code",
      "source": [
        "#Kiểm tra xem một số có phải là lũy thừa của 2 hay không. Sử dụng các toán tử bitwise để xác định xem một số có phải là lũy thừa của 2 hay không. Gợi ý: Đối với lũy thừa của 2, n & (n-1) == 0\n",
        "\n",
        "\n",
        "n=int(input())\n",
        "if n&(n-1)==0:\n",
        "  print('YES')\n",
        "else:\n",
        "  print(\"NO\")\n"
      ],
      "metadata": {
        "id": "QMqf41-UscqO",
        "colab": {
          "base_uri": "https://localhost:8080/"
        },
        "outputId": "d35d2fb9-77a8-45df-9739-7a781ec1329a"
      },
      "execution_count": null,
      "outputs": [
        {
          "output_type": "stream",
          "name": "stdout",
          "text": [
            "9\n",
            "NO\n"
          ]
        }
      ]
    },
    {
      "cell_type": "code",
      "source": [
        "# viêt chương trình chia một số m cho n, kết quả thu được làm tròn xuống\n",
        "\n",
        "def chia_lam_tron_xuong(m, n):\n",
        "    if n == 0:\n",
        "        return \"Không thể chia cho 0\"\n",
        "    return m // n\n",
        "\n",
        "m = int(input(\"Nhập số m: \"))\n",
        "n = int(input(\"Nhập số n: \"))\n",
        "kq = chia_lam_tron_xuong(m, n)\n",
        "print(f\"Kết quả m chia n (làm tròn xuống) là: {kq}\")\n"
      ],
      "metadata": {
        "colab": {
          "base_uri": "https://localhost:8080/"
        },
        "id": "jyCiDs65IB2U",
        "outputId": "e102e50a-837d-4f12-a92e-e16350bc4ea9"
      },
      "execution_count": null,
      "outputs": [
        {
          "output_type": "stream",
          "name": "stdout",
          "text": [
            "Nhập số m: 89\n",
            "Nhập số n: 7\n",
            "Kết quả m chia n (làm tròn xuống) là: 12\n"
          ]
        }
      ]
    },
    {
      "cell_type": "code",
      "source": [
        "# viêt chương trình chia một số m cho n, kết quả thu được làm tròn lên\n",
        "\n",
        "\n",
        "import math\n",
        "\n",
        "def chia_lam_tron_len(m, n):\n",
        "    if n == 0:\n",
        "        return \"Không thể chia cho 0\"\n",
        "    return math.ceil(m / n)\n",
        "\n",
        "m = int(input(\"Nhập số m: \"))\n",
        "n = int(input(\"Nhập số n: \"))\n",
        "\n",
        "kq = chia_lam_tron_len(m, n)\n",
        "print(f\"Kết quả m / n (làm tròn lên) là: {kq}\")\n"
      ],
      "metadata": {
        "colab": {
          "base_uri": "https://localhost:8080/"
        },
        "id": "wtHv72qiL9Bg",
        "outputId": "cdd62563-8fe4-47db-e952-f0f0fc86fc82"
      },
      "execution_count": null,
      "outputs": [
        {
          "output_type": "stream",
          "name": "stdout",
          "text": [
            "Nhập số m: 85\n",
            "Nhập số n: 16\n",
            "Kết quả m / n (làm tròn lên) là: 6\n"
          ]
        }
      ]
    },
    {
      "cell_type": "code",
      "source": [
        "# Nhập vào một số nguyên dương x, bạn hãy kiểm tra xem x là số chẵn hay lẻ. Nếu x là số chẵn, in ra \"Even\". Nếu x là số lẻ, in ra \"Odd\".\n",
        "\n",
        "x = int(input(\"Nhập một số nguyên dương: \"))\n",
        "\n",
        "if x <= 0:\n",
        "    print(\"Vui lòng nhập một số nguyên dương.\")\n",
        "elif x % 2 == 0:\n",
        "    print(\"Even\")  # Số chẵn\n",
        "else:\n",
        "    print(\"Odd\")   # Số lẻ\n"
      ],
      "metadata": {
        "colab": {
          "base_uri": "https://localhost:8080/"
        },
        "id": "wSE2dW3QNIgd",
        "outputId": "78f4db86-5831-4e47-a64f-858aee0c5abc"
      },
      "execution_count": null,
      "outputs": [
        {
          "output_type": "stream",
          "name": "stdout",
          "text": [
            "Nhập một số nguyên dương: 59\n",
            "Odd\n"
          ]
        }
      ]
    },
    {
      "cell_type": "code",
      "source": [
        "# Nhập vào hai số nguyên a, b. Nếu cả hai số a, b đều âm thì in ra \"Yes\", ngược lại in ra \"No\".\n",
        "\n",
        "a = int(input(\"Nhập số nguyên a: \"))\n",
        "b = int(input(\"Nhập số nguyên b: \"))\n",
        "\n",
        "if a < 0 and b < 0:\n",
        "    print(\"Yes\")\n",
        "else:\n",
        "    print(\"No\")\n"
      ],
      "metadata": {
        "colab": {
          "base_uri": "https://localhost:8080/"
        },
        "id": "BIYQfU7PNpah",
        "outputId": "d38a7ec0-ef4b-4d13-af23-df7ba2d6314f"
      },
      "execution_count": null,
      "outputs": [
        {
          "output_type": "stream",
          "name": "stdout",
          "text": [
            "Nhập số nguyên a: 9\n",
            "Nhập số nguyên b: 7\n",
            "No\n"
          ]
        }
      ]
    },
    {
      "cell_type": "code",
      "source": [
        "# Nhập vào hai chuỗi a, b gồm các chữ cái thường. In ra \"True\" nếu chuỗi a dài hơn chuỗi b. Ngược lại in ra \"False\".\n",
        "\n",
        "a = input(\"Nhập chuỗi a: \")\n",
        "b = input(\"Nhập chuỗi b: \")\n",
        "\n",
        "if len(a) > len(b):\n",
        "    print(\"True\")\n",
        "else:\n",
        "    print(\"False\")\n"
      ],
      "metadata": {
        "colab": {
          "base_uri": "https://localhost:8080/"
        },
        "id": "vJADBKGRN2to",
        "outputId": "fcbe5791-48a3-444b-8031-01cae35afd7c"
      },
      "execution_count": null,
      "outputs": [
        {
          "output_type": "stream",
          "name": "stdout",
          "text": [
            "Nhập chuỗi a: hello\n",
            "Nhập chuỗi b: hi\n",
            "True\n"
          ]
        }
      ]
    },
    {
      "cell_type": "code",
      "source": [
        "# Nhập vào 3 số nguyên dương a, b, c. Kiểm tra xem a, b, c có cấu thành độ dài cạnh của 1 tam giác được không. Nếu a, b, c cấu tạo thành được một tam giác, in ra \"Yes\". Ngược lại in ra \"No\".\n",
        "\n",
        "a = int(input(\"Nhập cạnh a: \"))\n",
        "b = int(input(\"Nhập cạnh b: \"))\n",
        "c = int(input(\"Nhập cạnh c: \"))\n",
        "\n",
        "if a > 0 and b > 0 and c > 0:\n",
        "    if a + b > c and a + c > b and b + c > a:\n",
        "        print(\"Yes\")\n",
        "    else:\n",
        "        print(\"No\")\n",
        "else:\n",
        "    print(\"No\")\n"
      ],
      "metadata": {
        "colab": {
          "base_uri": "https://localhost:8080/"
        },
        "id": "DMytSFbaOIzQ",
        "outputId": "550823e4-d261-4bd8-a8a4-a70aefe99969"
      },
      "execution_count": null,
      "outputs": [
        {
          "output_type": "stream",
          "name": "stdout",
          "text": [
            "Nhập cạnh a: -10\n",
            "Nhập cạnh b: 9\n",
            "Nhập cạnh c: 7\n",
            "No\n"
          ]
        }
      ]
    },
    {
      "cell_type": "code",
      "source": [
        "# Nhập vào 4 số nguyên. In ra màn hình số nguyên lớn nhất trong 4 số.\n",
        "\n",
        "a = int(input(\"Nhập số thứ nhất: \"))\n",
        "b = int(input(\"Nhập số thứ hai: \"))\n",
        "c = int(input(\"Nhập số thứ ba: \"))\n",
        "d = int(input(\"Nhập số thứ tư: \"))\n",
        "\n",
        "max_so = max(a, b, c, d)\n",
        "\n",
        "print(\"Số lớn nhất là:\", max_so)\n"
      ],
      "metadata": {
        "colab": {
          "base_uri": "https://localhost:8080/"
        },
        "id": "UBmG2Iq_OlyJ",
        "outputId": "23676b02-ec40-49de-8437-5d67af388293"
      },
      "execution_count": null,
      "outputs": [
        {
          "output_type": "stream",
          "name": "stdout",
          "text": [
            "Nhập số thứ nhất: 8\n",
            "Nhập số thứ hai: 65\n",
            "Nhập số thứ ba: -7\n",
            "Nhập số thứ tư: 9\n",
            "Số lớn nhất là: 65\n"
          ]
        }
      ]
    },
    {
      "cell_type": "code",
      "source": [
        "# Nhập vào 3 số nguyên dương a,b,c là độ dài 3 cạnh của một tam giác. Kiểm tra 3 số đã nhập có tạo thành một tam giác hợp lệ hay không. Nếu không in ra \"Không phải tam giác\". Nếu có, phân loại tam giác đó là \"Tam giác đều\", \"Tam giác cân\", hay \"Tam giác thường\".\n",
        "\n",
        "a = int(input(\"Nhập cạnh a: \"))\n",
        "b = int(input(\"Nhập cạnh b: \"))\n",
        "c = int(input(\"Nhập cạnh c: \"))\n",
        "\n",
        "if a <= 0 or b <= 0 or c <= 0:\n",
        "    print(\"Không phải tam giác\")\n",
        "else:\n",
        "    if a + b > c and a + c > b and b + c > a:\n",
        "        if a == b == c:\n",
        "            print(\"Tam giác đều\")\n",
        "        elif a == b or b == c or a == c:\n",
        "            print(\"Tam giác cân\")\n",
        "        else:\n",
        "            print(\"Tam giác thường\")\n",
        "    else:\n",
        "        print(\"Không phải tam giác\")"
      ],
      "metadata": {
        "colab": {
          "base_uri": "https://localhost:8080/"
        },
        "id": "VXU3cIoHPH8N",
        "outputId": "1b26cdb4-51f5-496b-9ee2-a851f17bdd62"
      },
      "execution_count": null,
      "outputs": [
        {
          "output_type": "stream",
          "name": "stdout",
          "text": [
            "Nhập cạnh a: 1\n",
            "Nhập cạnh b: 2\n",
            "Nhập cạnh c: 4\n",
            "Không phải tam giác\n"
          ]
        }
      ]
    },
    {
      "cell_type": "code",
      "source": [
        "# Nhập vào một số nguyên dương n là số năm, kiểm tra xem năm đó có phải là năm nhuận hay không. Năm nhuận là năm chia hết cho 4 nhưng không chia hết cho 100, hoặc chia hết cho 400. Nếu là năm nhuận in ra \"Yes\", nếu không in ra \"No\"\n",
        "\n",
        "n = int(input(\"Nhập năm (số nguyên dương): \"))\n",
        "\n",
        "if n <= 0:\n",
        "    print(\"Vui lòng nhập số nguyên dương.\")\n",
        "else:\n",
        "    if (n % 4 == 0 and n % 100 != 0) or (n % 400 == 0):\n",
        "        print(\"Yes\")\n",
        "    else:\n",
        "        print(\"No\")\n",
        "\n"
      ],
      "metadata": {
        "colab": {
          "base_uri": "https://localhost:8080/"
        },
        "id": "1D6Q9FYgQUxn",
        "outputId": "069a43e8-59e3-4a8e-acdb-31c088b9eb80"
      },
      "execution_count": null,
      "outputs": [
        {
          "output_type": "stream",
          "name": "stdout",
          "text": [
            "Nhập năm (số nguyên dương): 2025\n",
            "No\n"
          ]
        }
      ]
    },
    {
      "cell_type": "code",
      "source": [
        "kwh = int(input(\"Nhập số kWh điện tiêu thụ: \"))\n",
        "\n",
        "if kwh < 0:\n",
        "    print(\"Số kWh không hợp lệ.\")\n",
        "else:\n",
        "    tien = 0\n",
        "    if kwh <= 50:\n",
        "        tien = kwh * 1500\n",
        "    elif kwh <= 100:\n",
        "        tien = 50 * 1500 + (kwh - 50) * 2000\n",
        "    else:\n",
        "        tien = 50 * 1500 + 50 * 2000 + (kwh - 100) * 3000\n",
        "\n",
        "    print(f\"Tổng tiền điện phải trả là: {tien} đ\")\n"
      ],
      "metadata": {
        "colab": {
          "base_uri": "https://localhost:8080/"
        },
        "id": "1CAldVqsRDb9",
        "outputId": "08526dab-8e6e-4311-b2f3-dc91b33a3b81"
      },
      "execution_count": null,
      "outputs": [
        {
          "output_type": "stream",
          "name": "stdout",
          "text": [
            "Nhập số kWh điện tiêu thụ: 40\n",
            "Tổng tiền điện phải trả là: 60000 đ\n"
          ]
        }
      ]
    },
    {
      "cell_type": "code",
      "source": [
        "# Nhập vào hai số thực a và b của phương trình ax + b = 0. Tìm và in ra nghiệm của phương trình, kết quả làm tròn đến số thập phân thứ 2. In ra \"Vô nghiệm\" hoặc \"Vô số nghiệm\" trong trường hợp tương ứng.\n",
        "\n",
        "a = float(input(\"Nhập hệ số a: \"))\n",
        "b = float(input(\"Nhập hệ số b: \"))\n",
        "\n",
        "if a == 0:\n",
        "    if b == 0:\n",
        "        print(\"Vô số nghiệm\")\n",
        "    else:\n",
        "        print(\"Vô nghiệm\")\n",
        "else:\n",
        "    x = -b / a\n",
        "    print(f\"Nghiệm của phương trình là: {x:.2f}\")\n"
      ],
      "metadata": {
        "colab": {
          "base_uri": "https://localhost:8080/"
        },
        "id": "hhk5Y1iKRWz-",
        "outputId": "9051974c-5aef-4068-fcfc-c38def4f3790"
      },
      "execution_count": null,
      "outputs": [
        {
          "output_type": "stream",
          "name": "stdout",
          "text": [
            "Nhập hệ số a: 9\n",
            "Nhập hệ số b: 7\n",
            "Nghiệm của phương trình là: -0.78\n"
          ]
        }
      ]
    },
    {
      "cell_type": "code",
      "source": [
        "# Nhập vào điểm trung bình của một học sinh và in ra học lực của học sinh đó. Xếp loại học lực theo quy tắc:\n",
        "#- >= 8.0: Giỏi\n",
        "#- >= 6.5: Khá\n",
        "#- >= 5.0: Trung bình\n",
        "#- < 5.0: Yếu\n",
        "\n",
        "diem = float(input(\"Nhập điểm trung bình: \"))\n",
        "\n",
        "if diem >= 8.0:\n",
        "    print(\"Giỏi\")\n",
        "elif diem >= 6.5:\n",
        "    print(\"Khá\")\n",
        "elif diem >= 5.0:\n",
        "    print(\"Trung bình\")\n",
        "else:\n",
        "    print(\"Yếu\")\n",
        "\n"
      ],
      "metadata": {
        "colab": {
          "base_uri": "https://localhost:8080/"
        },
        "id": "zOVvwRUdSF6T",
        "outputId": "97ebab23-32d9-4a9d-b100-1d3000087f7b"
      },
      "execution_count": null,
      "outputs": [
        {
          "output_type": "stream",
          "name": "stdout",
          "text": [
            "Nhập điểm trung bình: 8.1\n",
            "Giỏi\n"
          ]
        }
      ]
    },
    {
      "cell_type": "code",
      "source": [
        "# Nhập vào một số thực: in ra kết quả làm tròn lên ,tròn xuống, làm tròn tới số nguyên gần nhất (không được sử dụng hàm sẵn có của pyton). Các kết quả cách nhau một dấu cách\n",
        "\n",
        "num = float(input(\"Nhập một số thực: \"))\n",
        "phan_nguyen = int(num)\n",
        "phan_thap_phan = num - phan_nguyen\n",
        "\n",
        "if num >= 0:\n",
        "    lam_tron_xuong = phan_nguyen\n",
        "else:\n",
        "  if phan_thap_phan == 0:\n",
        "    lam_tron_xuong = phan_nguyen\n",
        "  else:\n",
        "    lam_tron_xuong = phan_nguyen - 1\n",
        "\n",
        "if num >= 0:\n",
        "  if phan_thap_phan == 0:\n",
        "    lam_tron_len = phan_nguyen\n",
        "  else:\n",
        "    lam_tron_len = phan_nguyen + 1\n",
        "else:\n",
        "    lam_tron_len = phan_nguyen\n",
        "\n",
        "if num >= 0:\n",
        "    if phan_thap_phan >= 0.5:\n",
        "        lam_tron_gan_nhat = phan_nguyen + 1\n",
        "    else:\n",
        "        lam_tron_gan_nhat = phan_nguyen\n",
        "else:\n",
        "\n",
        "    if abs(phan_thap_phan) >= 0.5:\n",
        "        lam_tron_gan_nhat = phan_nguyen - 1\n",
        "    else:\n",
        "        lam_tron_gan_nhat = phan_nguyen\n",
        "\n",
        "print(lam_tron_len, lam_tron_xuong, lam_tron_gan_nhat)\n"
      ],
      "metadata": {
        "colab": {
          "base_uri": "https://localhost:8080/"
        },
        "id": "eKPlunGHScc2",
        "outputId": "9531912b-19ae-49b3-9fc4-717381b439a0"
      },
      "execution_count": null,
      "outputs": [
        {
          "output_type": "stream",
          "name": "stdout",
          "text": [
            "Nhập một số thực: 8.4\n",
            "9 8 8\n"
          ]
        }
      ]
    },
    {
      "cell_type": "code",
      "source": [
        "# [Phân loại tam giác] Nhập vào 3 số nguyên dương a,b,c là độ dài 3 cạnh của một tam giác. Kiểm tra 3 số đã nhập có tạo thành một tam giác hợp lệ hay không. Nếu không in ra \"Không phải tam giác\". Nếu có, phân loại tam giác đó là \"Tam giác đều\", \"Tam giác cân\", hay \"Tam giác thường\".\n",
        "\n",
        "a = int(input(\"Nhập cạnh a: \"))\n",
        "b = int(input(\"Nhập cạnh b: \"))\n",
        "c = int(input(\"Nhập cạnh c: \"))\n",
        "\n",
        "if a <= 0 or b <= 0 or c <= 0:\n",
        "    print(\"Không phải tam giác\")\n",
        "else:\n",
        "    if a + b > c and a + c > b and b + c > a:\n",
        "        if a == b == c:\n",
        "            print(\"Tam giác đều\")\n",
        "        elif a == b or b == c or a == c:\n",
        "            print(\"Tam giác cân\")\n",
        "        else:\n",
        "            print(\"Tam giác thường\")\n",
        "    else:\n",
        "        print(\"Không phải tam giác\")\n"
      ],
      "metadata": {
        "colab": {
          "base_uri": "https://localhost:8080/"
        },
        "id": "WChEQXgKVQRU",
        "outputId": "daf5da82-0863-4cc2-bca1-b581af7a237c"
      },
      "execution_count": null,
      "outputs": [
        {
          "output_type": "stream",
          "name": "stdout",
          "text": [
            "Nhập cạnh a: 9\n",
            "Nhập cạnh b: 4\n",
            "Nhập cạnh c: 5\n",
            "Không phải tam giác\n"
          ]
        }
      ]
    },
    {
      "cell_type": "code",
      "source": [],
      "metadata": {
        "id": "Y8Ftj7FYV8N1"
      },
      "execution_count": null,
      "outputs": []
    }
  ]
}