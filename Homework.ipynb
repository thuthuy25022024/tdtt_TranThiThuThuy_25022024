{
  "nbformat": 4,
  "nbformat_minor": 0,
  "metadata": {
    "colab": {
      "provenance": []
    },
    "kernelspec": {
      "name": "python3",
      "display_name": "Python 3"
    },
    "language_info": {
      "name": "python"
    }
  },
  "cells": [
    {
      "cell_type": "code",
      "execution_count": null,
      "metadata": {
        "colab": {
          "base_uri": "https://localhost:8080/"
        },
        "id": "0Voy4eHEcS5O",
        "outputId": "d3b045b0-16a5-4c88-8305-5d71ccd9ef79"
      },
      "outputs": [
        {
          "output_type": "stream",
          "name": "stdout",
          "text": [
            "Nhập vào một số nguyên: 7\n",
            "Số gấp đôi là: 14\n"
          ]
        }
      ],
      "source": [
        "#Bài 1\n",
        "n = int(input(\"Nhập vào một số nguyên: \"))\n",
        "print(\"Số gấp đôi là:\", n * 2)"
      ]
    },
    {
      "cell_type": "code",
      "source": [
        "#Bài 2\n",
        "\n",
        "a = float(input(\"Nhập chiều rộng a: \"))\n",
        "b = float(input(\"Nhập chiều dài b: \"))\n",
        "\n",
        "dien_tich_chu_nhat = a * b\n",
        "\n",
        "r = a / 2\n",
        "dien_tich_hinh_tron = 3.14 * (r ** 2)\n",
        "\n",
        "dien_tich_trong_cay = dien_tich_chu_nhat - dien_tich_hinh_tron\n",
        "\n",
        "print(f\"Diện tích còn lại để trồng cây là: {dien_tich_trong_cay:.2f}\")\n",
        "\n"
      ],
      "metadata": {
        "id": "f8bAzGFbdYoN",
        "colab": {
          "base_uri": "https://localhost:8080/"
        },
        "outputId": "acd3e231-86d5-4faf-df03-5d1115d39fdb"
      },
      "execution_count": null,
      "outputs": [
        {
          "output_type": "stream",
          "name": "stdout",
          "text": [
            "Nhập chiều rộng a: 4\n",
            "Nhập chiều dài b: 9\n",
            "Diện tích còn lại để trồng cây là: 23.44\n"
          ]
        }
      ]
    },
    {
      "cell_type": "code",
      "source": [
        "#Bài 3\n",
        "# Nhập 1 ký tự\n",
        "c = input(\"Nhập một ký tự: \")\n",
        "\n",
        "# Kiểm tra độ dài đầu vào\n",
        "if len(c) != 1:\n",
        "    print(\"Vui lòng chỉ nhập đúng 1 ký tự.\")\n",
        "else:\n",
        "    # Nếu là chữ hoa\n",
        "    if c.isupper():\n",
        "        print(\"Chữ thường tương ứng là:\", c.lower())\n",
        "    # Nếu là chữ thường\n",
        "    elif c.islower():\n",
        "        print(\"Chữ hoa tương ứng là:\", c.upper())\n",
        "    else:\n",
        "        print(\"Ký tự không phải là chữ cái.\")"
      ],
      "metadata": {
        "colab": {
          "base_uri": "https://localhost:8080/"
        },
        "id": "JFwMC0eXANcn",
        "outputId": "55ed3ccc-7803-42f1-8b21-594b2f143739"
      },
      "execution_count": null,
      "outputs": [
        {
          "output_type": "stream",
          "name": "stdout",
          "text": [
            "Nhập một ký tự: t\n",
            "Chữ hoa tương ứng là: T\n"
          ]
        }
      ]
    },
    {
      "cell_type": "code",
      "source": [
        "#Bài 4\n",
        "# Nhập một ký tự\n",
        "c = input(\"Nhập một ký tự: \")\n",
        "\n",
        "# Kiểm tra độ dài đầu vào\n",
        "if len(c) != 1:\n",
        "    print(\"Vui lòng chỉ nhập đúng 1 ký tự.\")\n",
        "else:\n",
        "    if c.isalpha():\n",
        "        print(f\"{c} là kí tự alphabet\")\n",
        "    else:\n",
        "        print(f\"{c} không phải là kí tự alphabet\")\n"
      ],
      "metadata": {
        "colab": {
          "base_uri": "https://localhost:8080/"
        },
        "id": "BIVV8r1xCBh7",
        "outputId": "e1046c0f-d9eb-481b-a67a-d1dc49c85c84"
      },
      "execution_count": null,
      "outputs": [
        {
          "output_type": "stream",
          "name": "stdout",
          "text": [
            "Nhập một ký tự: Y\n",
            "Y là kí tự alphabet\n"
          ]
        }
      ]
    },
    {
      "cell_type": "code",
      "source": [
        "#Bài 5\n",
        "# Nhập một ký tự\n",
        "c = input(\"Nhập một chữ cái in hoa (A-Z): \")\n",
        "\n",
        "# Kiểm tra hợp lệ: chỉ 1 ký tự và là chữ hoa\n",
        "if len(c) == 1 and c.isupper():\n",
        "    if c == 'A':\n",
        "        print(\"Không có chữ cái đứng trước a\")\n",
        "    else:\n",
        "        # Chuyển chữ hoa sang chữ thường\n",
        "        c_thuong = c.lower()\n",
        "        # Lấy mã ASCII, trừ đi 1 để lùi về trước\n",
        "        truoc = chr(ord(c_thuong) - 1)\n",
        "        print(f\"Chữ cái thường liền trước {c_thuong} là: {truoc}\")\n",
        "else:\n",
        "    print(\"Vui lòng nhập một ký tự chữ hoa hợp lệ.\")\n"
      ],
      "metadata": {
        "colab": {
          "base_uri": "https://localhost:8080/"
        },
        "id": "eM3WD_sKC4Ao",
        "outputId": "f4d85796-c705-498b-a106-d63b6b462673"
      },
      "execution_count": null,
      "outputs": [
        {
          "output_type": "stream",
          "name": "stdout",
          "text": [
            "Nhập một chữ cái in hoa (A-Z): Y\n",
            "Chữ cái thường liền trước y là: x\n"
          ]
        }
      ]
    },
    {
      "cell_type": "code",
      "source": [
        "#Bài 6\n",
        "import math\n",
        "\n",
        "a = float(input(\"Nhập cạnh a: \"))\n",
        "b = float(input(\"Nhập cạnh b: \"))\n",
        "c = float(input(\"Nhập cạnh c: \"))\n",
        "\n",
        "if (a + b > c) and (a + c > b) and (b + c > a):\n",
        "    p = (a + b + c) / 2\n",
        "    S = math.sqrt(p * (p - a) * (p - b) * (p - c))\n",
        "    print(f\"Diện tích tam giác là: {S:.1f}\")\n",
        "else:\n",
        "    print(\"Khong phai 3 canh cua tam giac\")\n"
      ],
      "metadata": {
        "colab": {
          "base_uri": "https://localhost:8080/"
        },
        "id": "gg0zn8jkD4xr",
        "outputId": "923c102a-44a4-4b32-aec6-93420af3eced"
      },
      "execution_count": null,
      "outputs": [
        {
          "output_type": "stream",
          "name": "stdout",
          "text": [
            "Nhập cạnh a: 8\n",
            "Nhập cạnh b: 5\n",
            "Nhập cạnh c: 9\n",
            "Diện tích tam giác là: 19.9\n"
          ]
        }
      ]
    },
    {
      "cell_type": "code",
      "source": [
        "#Bài 7\n",
        "s = input(\"Nhập chuỗi kí tự thường (độ dài >= 20): \")\n",
        "\n",
        "# Kiểm tra điều kiện chuỗi\n",
        "if len(s) >= 20 and s.islower():\n",
        "    print(\"Chữ cái thứ 5 là:\", s[4])\n",
        "    print(\"Chữ cái thứ 9 là:\", s[8])\n",
        "else:\n",
        "    print(\"Chuỗi không hợp lệ! Vui lòng nhập chuỗi có độ dài >= 20 và chỉ gồm chữ thường.\")\n"
      ],
      "metadata": {
        "colab": {
          "base_uri": "https://localhost:8080/"
        },
        "id": "XBTYc3FlEsuo",
        "outputId": "4c1a6819-8d19-44ec-ef35-a0091f4cbccc"
      },
      "execution_count": null,
      "outputs": [
        {
          "output_type": "stream",
          "name": "stdout",
          "text": [
            "Nhập chuỗi kí tự thường (độ dài >= 20): thodiemofsmelfjanr.cksslj\n",
            "Chữ cái thứ 5 là: i\n",
            "Chữ cái thứ 9 là: f\n"
          ]
        }
      ]
    },
    {
      "cell_type": "code",
      "source": [
        "#Bài 8\n",
        "# Hàm tính tiền theo bậc\n",
        "def tinh_tien_dien(kwh):\n",
        "    tien = 0\n",
        "    if kwh <= 50:\n",
        "        tien = kwh * 1.984\n",
        "    elif kwh <= 100:\n",
        "        tien = 50 * 1.984 + (kwh - 50) * 2.050\n",
        "    elif kwh <= 200:\n",
        "        tien = 50 * 1.984 + 50 * 2.050 + (kwh - 100) * 2.380\n",
        "    elif kwh <= 300:\n",
        "        tien = 50 * 1.984 + 50 * 2.050 + 100 * 2.380 + (kwh - 200) * 2.998\n",
        "    elif kwh <= 400:\n",
        "        tien = 50 * 1.984 + 50 * 2.050 + 100 * 2.380 + 100 * 2.998 + (kwh - 300) * 3.350\n",
        "    else:\n",
        "        tien = 50 * 1.984 + 50 * 2.050 + 100 * 2.380 + 100 * 2.998 + 100 * 3.350 + (kwh - 400) * 3.460\n",
        "    return tien\n",
        "\n",
        "# Nhập dữ liệu\n",
        "ten = input(\"Nhập tên chủ hộ: \")\n",
        "chi_so_truoc = int(input(\"Chỉ số tháng trước: \"))\n",
        "chi_so_nay = int(input(\"Chỉ số tháng này: \"))\n",
        "\n",
        "# Tính số kWh tiêu thụ\n",
        "kwh = chi_so_nay - chi_so_truoc\n",
        "\n",
        "# Tính tiền điện theo bậc\n",
        "tien = tinh_tien_dien(kwh)\n",
        "\n",
        "# Cộng thêm VAT 8%\n",
        "tien_vat = tien * 1.08\n",
        "\n",
        "# In kết quả, làm tròn đến đơn vị đồng\n",
        "print(f\"Họ và tên: {ten}\")\n",
        "print(f\"Tiền phải trả là: {round(tien_vat*1000)}\")\n"
      ],
      "metadata": {
        "colab": {
          "base_uri": "https://localhost:8080/"
        },
        "id": "WjNZypqtFCC-",
        "outputId": "4ff5bcfe-9943-4b66-bc47-c6595f6c710d"
      },
      "execution_count": null,
      "outputs": [
        {
          "output_type": "stream",
          "name": "stdout",
          "text": [
            "Nhập tên chủ hộ: Nguyen Xuan Long\n",
            "Chỉ số tháng trước: 2097\n",
            "Chỉ số tháng này: 2278\n",
            "Họ và tên: Nguyen Xuan Long\n",
            "Tiền phải trả là: 426038\n"
          ]
        }
      ]
    },
    {
      "cell_type": "code",
      "source": [
        "#Bài 1\n",
        "so = int(input(\"Nhập một số nguyên: \"))\n",
        "\n",
        "if so % 2 == 0:\n",
        "    print(f\"{so} là số chẵn.\")\n",
        "else:\n",
        "    print(f\"{so} là số lẻ.\")\n"
      ],
      "metadata": {
        "id": "ZIB8SKd5GQcn",
        "colab": {
          "base_uri": "https://localhost:8080/"
        },
        "outputId": "0a6dc684-a28c-43f6-b19b-fb99cc5648ac"
      },
      "execution_count": null,
      "outputs": [
        {
          "output_type": "stream",
          "name": "stdout",
          "text": [
            "Nhập một số nguyên: 5\n",
            "5 là số lẻ.\n"
          ]
        }
      ]
    },
    {
      "cell_type": "code",
      "source": [
        "#Bài 2\n",
        "so = int(input(\"Nhập một số nguyên: \"))\n",
        "\n",
        "if abs(so) % 10 == 5:\n",
        "    print(\"True\")\n",
        "else:\n",
        "    print(\"False\")\n"
      ],
      "metadata": {
        "colab": {
          "base_uri": "https://localhost:8080/"
        },
        "id": "JQKnL_HraHsO",
        "outputId": "c7c232e9-6ec6-4135-febb-d8fce7c1f420"
      },
      "execution_count": null,
      "outputs": [
        {
          "output_type": "stream",
          "name": "stdout",
          "text": [
            "Nhập một số nguyên: 8595\n",
            "True\n"
          ]
        }
      ]
    },
    {
      "cell_type": "code",
      "source": [
        "#Bài 3\n",
        "so = int(input(\"Nhập một số nguyên: \"))\n",
        "if so % 3 == 0 and so % 5 == 0:\n",
        "    print(\"True\")\n",
        "else:\n",
        "    print(\"False\")\n"
      ],
      "metadata": {
        "colab": {
          "base_uri": "https://localhost:8080/"
        },
        "id": "vIuKU-Ucah8H",
        "outputId": "7617eb8d-21f8-40d8-8dd8-5d8158a9f4af"
      },
      "execution_count": null,
      "outputs": [
        {
          "output_type": "stream",
          "name": "stdout",
          "text": [
            "Nhập một số nguyên: 67\n",
            "False\n"
          ]
        }
      ]
    },
    {
      "cell_type": "code",
      "source": [
        "#Bài 4\n",
        "from datetime import date\n",
        "\n",
        "# Nhập năm sinh từ người dùng\n",
        "nam_sinh = int(input(\"Nhập năm sinh của bạn: \"))\n",
        "\n",
        "# Lấy năm hiện tại\n",
        "nam_hien_tai = date.today().year\n",
        "\n",
        "# Tính tuổi\n",
        "tuoi = nam_hien_tai - nam_sinh\n",
        "\n",
        "# Kiểm tra đủ 18 tuổi hay không\n",
        "if tuoi >= 18:\n",
        "    print(\"Đủ điều kiện bầu cử.\")\n",
        "else:\n",
        "    print(\"Chưa đủ điều kiện bầu cử.\")\n"
      ],
      "metadata": {
        "colab": {
          "base_uri": "https://localhost:8080/"
        },
        "id": "SnE0or4laxE3",
        "outputId": "05c868f3-b2e2-48ce-f9f0-c6970ef0d8fd"
      },
      "execution_count": null,
      "outputs": [
        {
          "output_type": "stream",
          "name": "stdout",
          "text": [
            "Nhập năm sinh của bạn: 2007\n",
            "Đủ điều kiện bầu cử.\n"
          ]
        }
      ]
    },
    {
      "cell_type": "code",
      "source": [
        "# Bài 5\n",
        "so1 = float(input(\"Nhập số thứ nhất: \"))\n",
        "so2 = float(input(\"Nhập số thứ hai: \"))\n",
        "\n",
        "if so1 > so2:\n",
        "    print(f\"Số lớn hơn là: {so1}\")\n",
        "elif so2 > so1:\n",
        "    print(f\"Số lớn hơn là: {so2}\")\n",
        "else:\n",
        "    print(\"Hai số bằng nhau.\")\n"
      ],
      "metadata": {
        "colab": {
          "base_uri": "https://localhost:8080/"
        },
        "id": "gLSq5iKMbR9x",
        "outputId": "3ab3e824-d695-44c5-f342-300768f819f7"
      },
      "execution_count": null,
      "outputs": [
        {
          "output_type": "stream",
          "name": "stdout",
          "text": [
            "Nhập số thứ nhất: 8\n",
            "Nhập số thứ hai: 9.5\n",
            "Số lớn hơn là: 9.5\n"
          ]
        }
      ]
    },
    {
      "cell_type": "code",
      "source": [
        "# Bài 6\n",
        "\n",
        "ky_tu = input(\"Nhập một ký tự: \")\n",
        "\n",
        "if len(ky_tu) != 1:\n",
        "    print(\"Vui lòng chỉ nhập một ký tự duy nhất.\")\n",
        "else:\n",
        "\n",
        "    if ky_tu.isalpha():\n",
        "        print(\"Đây là chữ cái.\")\n",
        "    elif ky_tu.isdigit():\n",
        "        print(\"Đây là chữ số.\")\n",
        "    else:\n",
        "        print(\"Đây không phải là chữ cái cũng không phải là chữ số.\")\n"
      ],
      "metadata": {
        "colab": {
          "base_uri": "https://localhost:8080/"
        },
        "id": "t1ySCCk6biFK",
        "outputId": "5ed68486-f1bd-4523-edc9-41b8fa49cdc4"
      },
      "execution_count": null,
      "outputs": [
        {
          "output_type": "stream",
          "name": "stdout",
          "text": [
            "Nhập một ký tự: 8\n",
            "Đây là chữ số.\n"
          ]
        }
      ]
    },
    {
      "cell_type": "code",
      "source": [
        "#Bài 7\n",
        "# Nhập điểm từ người dùng\n",
        "diem = float(input(\"Nhập điểm (0 - 10): \"))\n",
        "\n",
        "# Kiểm tra điểm có hợp lệ không\n",
        "if diem < 0 or diem > 10:\n",
        "    print(\"Điểm không hợp lệ. Vui lòng nhập giá trị từ 0 đến 10.\")\n",
        "else:\n",
        "    # Phân loại học lực\n",
        "    if diem >= 8:\n",
        "        print(\"Học lực: Giỏi\")\n",
        "    elif diem >= 6.5:\n",
        "        print(\"Học lực: Khá\")\n",
        "    elif diem >= 5:\n",
        "        print(\"Học lực: Trung bình\")\n",
        "    else:\n",
        "        print(\"Học lực: Yếu\")\n"
      ],
      "metadata": {
        "colab": {
          "base_uri": "https://localhost:8080/"
        },
        "id": "Hr0vN0LVb5pZ",
        "outputId": "ac7e7d7c-ea1a-46aa-a732-5cd2cdfe912a"
      },
      "execution_count": null,
      "outputs": [
        {
          "output_type": "stream",
          "name": "stdout",
          "text": [
            "Nhập điểm (0 - 10): 8\n",
            "Học lực: Giỏi\n"
          ]
        }
      ]
    },
    {
      "cell_type": "code",
      "source": [
        "#Bài 8\n",
        "nam = int(input(\"Nhập năm: \"))\n",
        "if (nam % 400 == 0) or (nam % 4 == 0 and nam % 100 != 0):\n",
        "    print(f\"{nam} là năm nhuận.\")\n",
        "else:\n",
        "    print(f\"{nam} không phải là năm nhuận.\")\n"
      ],
      "metadata": {
        "colab": {
          "base_uri": "https://localhost:8080/"
        },
        "id": "koNgHsPQcHfA",
        "outputId": "7a40f11d-a179-4627-d008-963dbbfa5d0e"
      },
      "execution_count": null,
      "outputs": [
        {
          "output_type": "stream",
          "name": "stdout",
          "text": [
            "Nhập năm: 8694\n",
            "8694 không phải là năm nhuận.\n"
          ]
        }
      ]
    },
    {
      "cell_type": "code",
      "source": [
        "#Bài 9\n",
        "# Nhập số từ người dùng\n",
        "so = int(input(\"Nhập một số nguyên từ 0 đến 9: \"))\n",
        "\n",
        "# Sử dụng match...case để chuyển số thành chữ\n",
        "match so:\n",
        "    case 0:\n",
        "        print(\"Không\")\n",
        "    case 1:\n",
        "        print(\"Một\")\n",
        "    case 2:\n",
        "        print(\"Hai\")\n",
        "    case 3:\n",
        "        print(\"Ba\")\n",
        "    case 4:\n",
        "        print(\"Bốn\")\n",
        "    case 5:\n",
        "        print(\"Năm\")\n",
        "    case 6:\n",
        "        print(\"Sáu\")\n",
        "    case 7:\n",
        "        print(\"Bảy\")\n",
        "    case 8:\n",
        "        print(\"Tám\")\n",
        "    case 9:\n",
        "        print(\"Chín\")\n",
        "    case _:\n",
        "        print(\"Giá trị không hợp lệ! Vui lòng nhập số từ 0 đến 9.\")\n"
      ],
      "metadata": {
        "colab": {
          "base_uri": "https://localhost:8080/"
        },
        "id": "LT7582EGcbDi",
        "outputId": "253fef16-4c60-48ca-f3ed-560ba6936b54"
      },
      "execution_count": null,
      "outputs": [
        {
          "output_type": "stream",
          "name": "stdout",
          "text": [
            "Nhập một số nguyên từ 0 đến 9: 8\n",
            "Tám\n"
          ]
        }
      ]
    },
    {
      "cell_type": "code",
      "source": [
        "#Bài 10\n",
        "\n",
        "diem = float(input(\"Nhập điểm thi: \"))\n",
        "if diem >= 4:\n",
        "    print(\"Qua môn\")\n",
        "else:\n",
        "    print(\"Học lại\")\n"
      ],
      "metadata": {
        "colab": {
          "base_uri": "https://localhost:8080/"
        },
        "id": "FV9zIb-nc4Kv",
        "outputId": "7711d0b6-f82d-4f03-d37e-16cf33ce3189"
      },
      "execution_count": null,
      "outputs": [
        {
          "output_type": "stream",
          "name": "stdout",
          "text": [
            "Nhập điểm thi: 8.5\n",
            "Qua môn\n"
          ]
        }
      ]
    },
    {
      "cell_type": "code",
      "source": [
        "#Bài 11\n",
        "\n",
        "nam_sinh = int(input(\"Nhập năm sinh: \"))\n",
        "nam_hien_tai = 2025\n",
        "tuoi = nam_hien_tai - nam_sinh\n",
        "if tuoi >= 18:\n",
        "    print(f\"Tuổi của bạn là {tuoi}. Đủ 18 tuổi trở lên.\")\n",
        "else:\n",
        "    print(f\"Tuổi của bạn là {tuoi}. Chưa đủ 18 tuổi.\")\n"
      ],
      "metadata": {
        "colab": {
          "base_uri": "https://localhost:8080/"
        },
        "id": "iI-C7n5MdDTx",
        "outputId": "8c137cc5-33cc-45be-b534-d9f279ca0c80"
      },
      "execution_count": null,
      "outputs": [
        {
          "output_type": "stream",
          "name": "stdout",
          "text": [
            "Nhập năm sinh: 2007\n",
            "Tuổi của bạn là 18. Đủ 18 tuổi trở lên.\n"
          ]
        }
      ]
    },
    {
      "cell_type": "code",
      "source": [],
      "metadata": {
        "id": "Y_KoG71ugJHJ"
      },
      "execution_count": null,
      "outputs": []
    }
  ]
}